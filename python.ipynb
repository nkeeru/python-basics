{
  "nbformat": 4,
  "nbformat_minor": 0,
  "metadata": {
    "colab": {
      "provenance": [],
      "authorship_tag": "ABX9TyOlTmdX2Nu2ncdrJyAy5SaQ",
      "include_colab_link": true
    },
    "kernelspec": {
      "name": "python3",
      "display_name": "Python 3"
    },
    "language_info": {
      "name": "python"
    }
  },
  "cells": [
    {
      "cell_type": "markdown",
      "metadata": {
        "id": "view-in-github",
        "colab_type": "text"
      },
      "source": [
        "<a href=\"https://colab.research.google.com/github/nkeeru/python-basics/blob/main/python.ipynb\" target=\"_parent\"><img src=\"https://colab.research.google.com/assets/colab-badge.svg\" alt=\"Open In Colab\"/></a>"
      ]
    },
    {
      "cell_type": "code",
      "execution_count": null,
      "metadata": {
        "colab": {
          "base_uri": "https://localhost:8080/"
        },
        "id": "q2EvNqXuuIPD",
        "outputId": "5eff6c84-1ac4-44d6-fe81-936ab878a490"
      },
      "outputs": [
        {
          "output_type": "stream",
          "name": "stdout",
          "text": [
            "no\n"
          ]
        }
      ],
      "source": [
        "#Indentation\n",
        "if 10>50:\n",
        " print(\"yes\")\n",
        "else:\n",
        " print(\"no\")"
      ]
    },
    {
      "cell_type": "code",
      "source": [
        "print(\"a\")"
      ],
      "metadata": {
        "colab": {
          "base_uri": "https://localhost:8080/"
        },
        "id": "K-K5jezXfya5",
        "outputId": "4e0d85b8-3ec1-4d38-a3ca-00b3c484ef72"
      },
      "execution_count": null,
      "outputs": [
        {
          "output_type": "stream",
          "name": "stdout",
          "text": [
            "a\n"
          ]
        }
      ]
    },
    {
      "cell_type": "code",
      "source": [
        "#variables\n",
        "b='mrce'\n",
        "print(b)"
      ],
      "metadata": {
        "colab": {
          "base_uri": "https://localhost:8080/"
        },
        "id": "r98es3zGg6Rr",
        "outputId": "24ae6c14-f680-4daf-fbac-fb90bca05f59"
      },
      "execution_count": null,
      "outputs": [
        {
          "output_type": "stream",
          "name": "stdout",
          "text": [
            "mrce\n"
          ]
        }
      ]
    },
    {
      "cell_type": "code",
      "source": [
        "#multiple variables with single value\n",
        "a=b=c=10\n",
        "print(a)\n",
        "print(a+c)"
      ],
      "metadata": {
        "colab": {
          "base_uri": "https://localhost:8080/"
        },
        "id": "hepWvKU7hdly",
        "outputId": "33306279-8358-4ef7-80d2-68a1763fb6d2"
      },
      "execution_count": null,
      "outputs": [
        {
          "output_type": "stream",
          "name": "stdout",
          "text": [
            "10\n",
            "20\n"
          ]
        }
      ]
    },
    {
      "cell_type": "code",
      "source": [
        "#multiple variables with multiple values\n",
        "a,b,c=10,20,30\n",
        "print(c)"
      ],
      "metadata": {
        "colab": {
          "base_uri": "https://localhost:8080/"
        },
        "id": "TfjhRIOMh88f",
        "outputId": "db5bc954-9f64-474c-e9bc-37d3d5c202cd"
      },
      "execution_count": null,
      "outputs": [
        {
          "output_type": "stream",
          "name": "stdout",
          "text": [
            "30\n"
          ]
        }
      ]
    },
    {
      "cell_type": "code",
      "source": [
        "a=10\n",
        "print(a)"
      ],
      "metadata": {
        "colab": {
          "base_uri": "https://localhost:8080/"
        },
        "id": "63ahmmcsjsTq",
        "outputId": "233e04ff-ebbd-4563-f75b-0836b900cfff"
      },
      "execution_count": null,
      "outputs": [
        {
          "output_type": "stream",
          "name": "stdout",
          "text": [
            "10\n"
          ]
        }
      ]
    },
    {
      "cell_type": "code",
      "source": [
        "na2me=\"sruthi\"\n",
        "print(na2me)"
      ],
      "metadata": {
        "colab": {
          "base_uri": "https://localhost:8080/"
        },
        "id": "UnQ0r2AuiG9q",
        "outputId": "6b45fb02-531c-437a-b1ad-ab295d6673e9"
      },
      "execution_count": null,
      "outputs": [
        {
          "output_type": "stream",
          "name": "stdout",
          "text": [
            "sruthi\n"
          ]
        }
      ]
    },
    {
      "cell_type": "code",
      "source": [
        "_name=\"sruthi\"\n",
        "print(_name)"
      ],
      "metadata": {
        "colab": {
          "base_uri": "https://localhost:8080/"
        },
        "id": "4TRaIfy4izJ1",
        "outputId": "49c3ac3b-ba1d-41db-e093-d21923982f9a"
      },
      "execution_count": null,
      "outputs": [
        {
          "output_type": "stream",
          "name": "stdout",
          "text": [
            "sruthi\n"
          ]
        }
      ]
    },
    {
      "cell_type": "code",
      "source": [
        "#single line comment\n",
        "#addition of 2 numbers\n",
        "a=10\n",
        "b=20\n",
        "print(a+b)"
      ],
      "metadata": {
        "colab": {
          "base_uri": "https://localhost:8080/"
        },
        "id": "ULO3n6pmi9Q5",
        "outputId": "6df5d948-7e50-4d30-fa24-1df6da75a55b"
      },
      "execution_count": null,
      "outputs": [
        {
          "output_type": "stream",
          "name": "stdout",
          "text": [
            "30\n"
          ]
        }
      ]
    },
    {
      "cell_type": "code",
      "source": [
        "#multiline comment\n",
        "'''addition of numbers'''\n",
        "a=10\n",
        "b=30\n",
        "print(a+b)\n"
      ],
      "metadata": {
        "colab": {
          "base_uri": "https://localhost:8080/"
        },
        "id": "m3KgqLfnjPn6",
        "outputId": "e86284e4-93b3-4aa7-f09a-4a264e29598a"
      },
      "execution_count": null,
      "outputs": [
        {
          "output_type": "stream",
          "name": "stdout",
          "text": [
            "40\n"
          ]
        }
      ]
    },
    {
      "cell_type": "code",
      "source": [
        "#identifiers\n",
        "temp=25\n",
        "print(temp)"
      ],
      "metadata": {
        "colab": {
          "base_uri": "https://localhost:8080/"
        },
        "id": "E_TWWOStj4wv",
        "outputId": "89897b8f-695b-4e0f-9c48-b745d110c680"
      },
      "execution_count": null,
      "outputs": [
        {
          "output_type": "stream",
          "name": "stdout",
          "text": [
            "25\n"
          ]
        }
      ]
    },
    {
      "cell_type": "code",
      "source": [
        "#list\n",
        "a=[1,2,3,4,5]\n",
        "print(a)\n",
        "#type()\n",
        "print(type(a))"
      ],
      "metadata": {
        "colab": {
          "base_uri": "https://localhost:8080/"
        },
        "id": "KeIaRLjmnWjs",
        "outputId": "59dd2daf-af6f-4a8a-e6b4-72962a6748c7"
      },
      "execution_count": null,
      "outputs": [
        {
          "output_type": "stream",
          "name": "stdout",
          "text": [
            "[1, 2, 3, 4, 5]\n",
            "<class 'list'>\n"
          ]
        }
      ]
    },
    {
      "cell_type": "code",
      "source": [
        "#positive indexing\n",
        "a=[1,2,3]\n",
        "print(a[1])\n",
        "#negative indexing\n",
        "a=[1,2,3,4,5]\n",
        "print(a[3])"
      ],
      "metadata": {
        "colab": {
          "base_uri": "https://localhost:8080/"
        },
        "id": "cgMGu-Zonti0",
        "outputId": "25410426-022b-4680-f887-8a9fef67bc7e"
      },
      "execution_count": null,
      "outputs": [
        {
          "output_type": "stream",
          "name": "stdout",
          "text": [
            "2\n",
            "4\n"
          ]
        }
      ]
    },
    {
      "cell_type": "code",
      "source": [
        "#postive slicing\n",
        "a=[1,2,3,4,5,6]\n",
        "print(a[1:5])\n",
        "print(a[3:])\n",
        "#negative slicing\n",
        "a=[1,2,3,4,5,6,7,8,9]\n",
        "print(a[2:6])\n"
      ],
      "metadata": {
        "colab": {
          "base_uri": "https://localhost:8080/"
        },
        "id": "4RrVdlWfoa4o",
        "outputId": "48ea9561-5704-4855-a79a-a35853724f08"
      },
      "execution_count": null,
      "outputs": [
        {
          "output_type": "stream",
          "name": "stdout",
          "text": [
            "[2, 3, 4, 5]\n",
            "[4, 5, 6]\n",
            "[3, 4, 5, 6]\n"
          ]
        }
      ]
    },
    {
      "cell_type": "code",
      "source": [
        "#step\n",
        "a=[1,2,3,4,5,6,53,65]\n",
        "print(a[1:5:2])"
      ],
      "metadata": {
        "colab": {
          "base_uri": "https://localhost:8080/"
        },
        "id": "rCRfES76paSN",
        "outputId": "fb059595-128f-4088-b6bd-78f297d9c014"
      },
      "execution_count": null,
      "outputs": [
        {
          "output_type": "stream",
          "name": "stdout",
          "text": [
            "[2, 4]\n"
          ]
        }
      ]
    },
    {
      "cell_type": "code",
      "source": [
        "#type function\n",
        "a=[1,2,3,4]\n",
        "print(type(a))\n",
        "a=10\n",
        "print(type(a))"
      ],
      "metadata": {
        "colab": {
          "base_uri": "https://localhost:8080/"
        },
        "id": "ioB9LQlwqeVo",
        "outputId": "bfc37337-e7f5-4852-f21c-41a683f8ad22"
      },
      "execution_count": null,
      "outputs": [
        {
          "output_type": "stream",
          "name": "stdout",
          "text": [
            "<class 'list'>\n",
            "<class 'int'>\n"
          ]
        }
      ]
    },
    {
      "cell_type": "code",
      "source": [
        "#append\n",
        "a=[1,2,3]\n",
        "a.append(44)\n",
        "print(a)\n",
        "#Extend\n",
        "a=[1,2,3]\n",
        "b=[4,5,6]\n",
        "a.extend(b)\n",
        "print(a)"
      ],
      "metadata": {
        "colab": {
          "base_uri": "https://localhost:8080/"
        },
        "id": "qLgVM-Xnqp5t",
        "outputId": "96666269-2178-409f-a940-3151bc7198da"
      },
      "execution_count": null,
      "outputs": [
        {
          "output_type": "stream",
          "name": "stdout",
          "text": [
            "[1, 2, 3, 44]\n",
            "[1, 2, 3, 4, 5, 6]\n"
          ]
        }
      ]
    },
    {
      "cell_type": "code",
      "source": [
        "#adding 2 types\n",
        "a=[1,2,3]\n",
        "b=[4,5,6]\n",
        "print(a+b)"
      ],
      "metadata": {
        "colab": {
          "base_uri": "https://localhost:8080/"
        },
        "id": "Zh6oOe_ErNce",
        "outputId": "76057c3b-197a-4251-969c-becd5cd5739f"
      },
      "execution_count": null,
      "outputs": [
        {
          "output_type": "stream",
          "name": "stdout",
          "text": [
            "[1, 2, 3, 4, 5, 6]\n"
          ]
        }
      ]
    },
    {
      "cell_type": "code",
      "source": [
        "#pop()\n",
        "a=[1,2,3,4]\n",
        "a.pop()\n",
        "print(a)\n",
        "#update\n",
        "a=[1,2,3,4]\n",
        "a[2]=5\n",
        "print(a)\n",
        "#len()\n",
        "a=[1,2,3,4]\n",
        "print(len(a))\n",
        "#min\n",
        "a=[1,2,3,4]\n",
        "print(min(a))\n",
        "#max\n",
        "a=[1,2,3,4]\n",
        "print(max(a))"
      ],
      "metadata": {
        "colab": {
          "base_uri": "https://localhost:8080/"
        },
        "id": "SuRONRAyrfuN",
        "outputId": "02673f2e-e3a1-4f77-f732-144d93aae640"
      },
      "execution_count": null,
      "outputs": [
        {
          "output_type": "stream",
          "name": "stdout",
          "text": [
            "[1, 2, 3]\n",
            "[1, 2, 5, 4]\n",
            "4\n",
            "1\n",
            "4\n"
          ]
        }
      ]
    },
    {
      "cell_type": "code",
      "source": [
        "#tuple\n",
        "a=(1,2,3,4)\n",
        "print(a)\n",
        "#type\n",
        "print(type(a))\n",
        "#indexing\n",
        "a=(1,2,3,4)\n",
        "print(a[2])\n",
        "#slicing\n",
        "a=(1,2,3,4,5,6)\n",
        "print(a[1:4])\n",
        "#step indexing\n",
        "a=(1,2,3,4,5,6)\n",
        "print(a[1:5:2])\n",
        "#adding 2 tuples\n",
        "a=(1,2,3)\n",
        "b=(4,5,6)\n",
        "print(a+b)"
      ],
      "metadata": {
        "colab": {
          "base_uri": "https://localhost:8080/"
        },
        "id": "xvmUcaW6sC4S",
        "outputId": "9872d342-53ea-4c02-a114-1be3185fd010"
      },
      "execution_count": null,
      "outputs": [
        {
          "output_type": "stream",
          "name": "stdout",
          "text": [
            "(1, 2, 3, 4)\n",
            "<class 'tuple'>\n",
            "3\n",
            "(2, 3, 4)\n",
            "(2, 4)\n",
            "(1, 2, 3, 4, 5, 6)\n"
          ]
        }
      ]
    },
    {
      "cell_type": "code",
      "source": [
        "#looping\n",
        "a=[1,2,3,4]\n",
        "for i in a:\n",
        " print(i)"
      ],
      "metadata": {
        "colab": {
          "base_uri": "https://localhost:8080/"
        },
        "id": "-veIF14Ss888",
        "outputId": "d5c72e57-88e1-4485-a087-07a56e800dc5"
      },
      "execution_count": null,
      "outputs": [
        {
          "output_type": "stream",
          "name": "stdout",
          "text": [
            "1\n",
            "2\n",
            "3\n",
            "4\n"
          ]
        }
      ]
    },
    {
      "cell_type": "code",
      "source": [
        "#conversions of tuple to list\n",
        "a=(1,2,3,4)\n",
        "b=list(a)\n",
        "print((b))\n",
        "#update\n",
        "a=[1,2,3,4]\n",
        "a[2]=5\n",
        "print(a)\n",
        "#conversions of list to tuple\n",
        "a=[1,2,3,4]\n",
        "b=tuple(a)\n",
        "print(b)\n"
      ],
      "metadata": {
        "colab": {
          "base_uri": "https://localhost:8080/"
        },
        "id": "s5vd8tswtQNw",
        "outputId": "c04381e7-8137-483b-c70c-4c5bcee634ad"
      },
      "execution_count": null,
      "outputs": [
        {
          "output_type": "stream",
          "name": "stdout",
          "text": [
            "[1, 2, 3, 4]\n",
            "[1, 2, 5, 4]\n",
            "(1, 2, 3, 4)\n"
          ]
        }
      ]
    },
    {
      "cell_type": "code",
      "source": [
        "#dictionary\n",
        "a={1:'a',2:'b',3:'c'}\n",
        "print(a)\n",
        "#type\n",
        "print(type(a))\n",
        "#access\n",
        "a={1:'a',2:'b',3:'c'}\n",
        "print(a[1])\n",
        "#update\n",
        "a={1:'a',2:'b',3:'c'}\n",
        "a[1]='d'\n",
        "print(a)\n",
        "#keys\n",
        "a={1:'a',2:'b',3:'c'}\n",
        "print(a.keys())\n",
        "#values\n",
        "a={1:'a',2:'b',3:'c'}\n",
        "print(a.values())\n",
        "#items\n",
        "a={1:'a',2:'b',3:'c'}\n",
        "print(a.items())\n",
        "#length\n",
        "a={1:'a',2:'b',3:'c'}\n",
        "print(len(a))\n",
        "#adding 2 dictionaries\n",
        "a={1:'a',2:'b',3:'c'}\n",
        "b={4:'d',5:'e'}\n",
        "a.update(b)\n",
        "b.update(a)\n",
        "print(a)\n",
        "print(b)\n",
        "#pop\n",
        "a={1:'a',2:'b',3:'c'}\n",
        "a.pop(1)\n",
        "print(a)\n",
        "#pop_item\n",
        "a={1:'a',2:'b',3:'c'}\n",
        "a.popitem()\n",
        "print(a)"
      ],
      "metadata": {
        "colab": {
          "base_uri": "https://localhost:8080/"
        },
        "id": "wKwlumQZuAbq",
        "outputId": "976d3cb4-f757-495f-e86b-6924f50480e8"
      },
      "execution_count": null,
      "outputs": [
        {
          "output_type": "stream",
          "name": "stdout",
          "text": [
            "{1: 'a', 2: 'b', 3: 'c'}\n",
            "<class 'dict'>\n",
            "a\n",
            "{1: 'd', 2: 'b', 3: 'c'}\n",
            "dict_keys([1, 2, 3])\n",
            "dict_values(['a', 'b', 'c'])\n",
            "dict_items([(1, 'a'), (2, 'b'), (3, 'c')])\n",
            "3\n",
            "{1: 'a', 2: 'b', 3: 'c', 4: 'd', 5: 'e'}\n",
            "{4: 'd', 5: 'e', 1: 'a', 2: 'b', 3: 'c'}\n",
            "{2: 'b', 3: 'c'}\n",
            "{1: 'a', 2: 'b'}\n"
          ]
        }
      ]
    },
    {
      "cell_type": "code",
      "source": [
        "#strings\n",
        "a=\"Keeru\"\n",
        "print(a)\n",
        "#singleline strings\n",
        "a=\"mrce\"\n",
        "print(a)\n",
        "#multiline strings\n",
        "a='''mrce is a engineering college'''\n",
        "print(a)\n",
        "#slicing\n",
        "a=\"mrce college\"\n",
        "print(a[0])\n",
        "print(a[0:6])\n",
        "#step indexing\n",
        "b=\"mrce college\"\n",
        "print(b[0:10:2])\n",
        "#lower and upper methods\n",
        "a=\"mrce\"\n",
        "m=a.upper()\n",
        "print(m)\n",
        "n=a.lower()\n",
        "print(n)\n",
        "#len\n",
        "b=\"mrce\"\n",
        "print(len(b))\n",
        "#strip\n",
        "a=\"  Keerthana\"\n",
        "print(a.strip())"
      ],
      "metadata": {
        "colab": {
          "base_uri": "https://localhost:8080/"
        },
        "id": "5dSypPHpvQZ8",
        "outputId": "c98eef8b-ac21-4532-ac75-b81ddb097a9d"
      },
      "execution_count": null,
      "outputs": [
        {
          "output_type": "stream",
          "name": "stdout",
          "text": [
            "Keeru\n",
            "mrce\n",
            "mrce is a engineering college\n",
            "m\n",
            "mrce c\n",
            "mc ol\n",
            "MRCE\n",
            "mrce\n",
            "4\n",
            "Keerthana\n"
          ]
        }
      ]
    },
    {
      "cell_type": "code",
      "source": [
        "#format method\n",
        "a=\"cse\"\n",
        "b=45\n",
        "out=\"my department is {} and count is {}\"\n",
        "print(out.format(a,b))\n",
        "a=\"cse\"\n",
        "b=54\n",
        "out=\"my dept is {1} and count is {0}\"\n",
        "print(out.format(b,a))\n",
        "#without format\n",
        "a=\"cse\"\n",
        "b=str (55)\n",
        "print(a+b)"
      ],
      "metadata": {
        "colab": {
          "base_uri": "https://localhost:8080/"
        },
        "id": "hKYJVa5WxqRj",
        "outputId": "4d40d78d-db59-4b1d-cc07-9970e0bd8ccf"
      },
      "execution_count": null,
      "outputs": [
        {
          "output_type": "stream",
          "name": "stdout",
          "text": [
            "my department is cse and count is 45\n",
            "my dept is cse and count is 54\n",
            "cse55\n"
          ]
        }
      ]
    },
    {
      "cell_type": "code",
      "source": [
        "#set\n",
        "a={1,2,3,4,5,6,6,56,9,3,0,34,67,12}\n",
        "print(a)\n",
        "print(type(a))\n",
        "#adding\n",
        "a.add(65)\n",
        "print(a)\n",
        "#pop\n",
        "a.pop()\n",
        "print(a)\n",
        "#adding 2 sets\n",
        "a={1,2,3,4}\n",
        "b={9,8,7,6}\n",
        "a.update(b)\n",
        "print(a)"
      ],
      "metadata": {
        "colab": {
          "base_uri": "https://localhost:8080/"
        },
        "id": "H-YqYcfezZQx",
        "outputId": "b10678d2-66b0-4fc5-e6c1-4f48e518c01f"
      },
      "execution_count": null,
      "outputs": [
        {
          "output_type": "stream",
          "name": "stdout",
          "text": [
            "{0, 1, 2, 3, 4, 5, 6, 34, 67, 9, 12, 56}\n",
            "<class 'set'>\n",
            "{0, 1, 2, 3, 4, 5, 6, 34, 67, 9, 65, 12, 56}\n",
            "{1, 2, 3, 4, 5, 6, 34, 67, 9, 65, 12, 56}\n",
            "{1, 2, 3, 4, 6, 7, 8, 9}\n"
          ]
        }
      ]
    },
    {
      "cell_type": "code",
      "source": [
        "#numbers\n",
        "a=5\n",
        "print(type(a))\n",
        "a=7.9\n",
        "print(type(a))\n",
        "a=6+7j\n",
        "print(type(a))"
      ],
      "metadata": {
        "colab": {
          "base_uri": "https://localhost:8080/"
        },
        "id": "t46SAHVG1gn2",
        "outputId": "2e46e971-3736-40af-b064-61036a1a7f2e"
      },
      "execution_count": null,
      "outputs": [
        {
          "output_type": "stream",
          "name": "stdout",
          "text": [
            "<class 'int'>\n",
            "<class 'float'>\n",
            "<class 'complex'>\n"
          ]
        }
      ]
    },
    {
      "cell_type": "code",
      "source": [
        "#isinstance\n",
        "a=8\n",
        "print(isinstance(a,int))\n",
        "a=7.8\n",
        "print(isinstance(a,int))"
      ],
      "metadata": {
        "colab": {
          "base_uri": "https://localhost:8080/"
        },
        "id": "oIUj9H_X16zo",
        "outputId": "9a41ec27-2e12-4282-ca08-aa8ecefce0de"
      },
      "execution_count": null,
      "outputs": [
        {
          "output_type": "stream",
          "name": "stdout",
          "text": [
            "True\n",
            "False\n"
          ]
        }
      ]
    },
    {
      "cell_type": "code",
      "source": [
        "#booleans\n",
        "a=True\n",
        "print(type(a))\n",
        "print(bool(9))\n",
        "print(bool(0))\n",
        "print(bool([1,2,3]))\n",
        "print(bool([]))"
      ],
      "metadata": {
        "colab": {
          "base_uri": "https://localhost:8080/"
        },
        "id": "QlAqtsKo2VDC",
        "outputId": "f10e60be-e834-46a1-c5cc-dfc23d8eec65"
      },
      "execution_count": null,
      "outputs": [
        {
          "output_type": "stream",
          "name": "stdout",
          "text": [
            "<class 'bool'>\n",
            "True\n",
            "False\n",
            "True\n",
            "False\n"
          ]
        }
      ]
    },
    {
      "cell_type": "code",
      "source": [
        "#functions\n",
        "def mrce():\n",
        "  print(\"mrce\")\n",
        "#functioncall\n",
        "  print(\"college\")\n",
        "mrce()"
      ],
      "metadata": {
        "colab": {
          "base_uri": "https://localhost:8080/"
        },
        "id": "UEtFEISy29Xn",
        "outputId": "33055db1-ef7f-45a7-b913-48c46f8abd0f"
      },
      "execution_count": null,
      "outputs": [
        {
          "output_type": "stream",
          "name": "stdout",
          "text": [
            "mrce\n",
            "college\n"
          ]
        }
      ]
    },
    {
      "cell_type": "code",
      "source": [
        "#function with parameters\n",
        "def add(a,b):\n",
        "  print(a+b)\n",
        "add(2,4)\n",
        "add(8,4)"
      ],
      "metadata": {
        "colab": {
          "base_uri": "https://localhost:8080/"
        },
        "id": "VuwGqUez4PmB",
        "outputId": "994fa40a-144e-4833-d074-d7fd79733c9d"
      },
      "execution_count": null,
      "outputs": [
        {
          "output_type": "stream",
          "name": "stdout",
          "text": [
            "6\n",
            "12\n"
          ]
        }
      ]
    },
    {
      "cell_type": "code",
      "source": [
        "#if statement\n",
        "a = -3\n",
        "if a > 0:\n",
        "  print(\"pos\")\n",
        "else:\n",
        "  print(\"neg\")\n",
        "if a < 8:\n",
        "  print(\"pos\")\n",
        "#elif statement\n",
        "day=2\n",
        "if day==1:\n",
        "  print(\"sun\")\n",
        "elif day==2:\n",
        "  print(\"mon\")\n",
        "elif day==3:\n",
        "  print(\"tue\")\n",
        "else:\n",
        "  print(\"choose the crt number\")"
      ],
      "metadata": {
        "colab": {
          "base_uri": "https://localhost:8080/"
        },
        "id": "H_i2XaQQ4noU",
        "outputId": "e2648798-d447-4b62-e710-cbcaa062422f"
      },
      "execution_count": null,
      "outputs": [
        {
          "output_type": "stream",
          "name": "stdout",
          "text": [
            "neg\n",
            "pos\n",
            "mon\n"
          ]
        }
      ]
    },
    {
      "cell_type": "code",
      "source": [
        "#modules\n",
        "def sum(a,b):\n",
        "  return a+b\n",
        "def sub(a,b):\n",
        "  return a-b\n",
        "def mul(a,b):\n",
        "  return a*b"
      ],
      "metadata": {
        "id": "knGD0kMY5lXY"
      },
      "execution_count": null,
      "outputs": []
    }
  ]
}